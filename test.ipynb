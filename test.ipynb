{
 "cells": [
  {
   "cell_type": "code",
   "execution_count": 1,
   "metadata": {},
   "outputs": [
    {
     "name": "stdout",
     "output_type": "stream",
     "text": [
      "This is Python. \n",
      "\n",
      "This is text being appended to test.txt\n",
      "And another line here.\n",
      "\n"
     ]
    }
   ],
   "source": [
    "my_file = open('test.txt', 'r')\n",
    "print (my_file.read())"
   ]
  },
  {
   "cell_type": "code",
   "execution_count": 2,
   "metadata": {},
   "outputs": [],
   "source": [
    "my_file = open('test.txt', 'a+')\n",
    "my_file.write(f' \\nhello world  '*5)\n",
    "my_file.seek(0)\n",
    "my_file.close()"
   ]
  },
  {
   "cell_type": "code",
   "execution_count": 3,
   "metadata": {},
   "outputs": [
    {
     "name": "stdout",
     "output_type": "stream",
     "text": [
      "This is Python. \n",
      "\n",
      "This is text being appended to test.txt\n",
      "And another line here.\n",
      " \n",
      "hello world   \n",
      "hello world   \n",
      "hello world   \n",
      "hello world   \n",
      "hello world  \n"
     ]
    }
   ],
   "source": [
    "my_file = open('test.txt', 'r')\n",
    "print (my_file.read())"
   ]
  },
  {
   "cell_type": "code",
   "execution_count": 4,
   "metadata": {},
   "outputs": [],
   "source": [
    "my_file = open('test.txt', 'a+')\n",
    "my_file.write(f'\\nilove python'.upper())\n",
    "my_file.seek(0)\n",
    "my_file.close()"
   ]
  },
  {
   "cell_type": "code",
   "execution_count": 9,
   "metadata": {},
   "outputs": [
    {
     "name": "stdout",
     "output_type": "stream",
     "text": [
      "This is Python. \n",
      "\n",
      "This is text being appended to test.txt\n",
      "And another line here.\n",
      " \n",
      "hello world   \n",
      "hello world   \n",
      "hello world   \n",
      "hello world   \n",
      "hello world  \n",
      "ILOVE PYTHON\n"
     ]
    }
   ],
   "source": [
    "my_file = open('test.txt', 'r')\n",
    "print (my_file.read())"
   ]
  },
  {
   "cell_type": "code",
   "execution_count": null,
   "metadata": {},
   "outputs": [],
   "source": []
  }
 ],
 "metadata": {
  "kernelspec": {
   "display_name": "Python 3",
   "language": "python",
   "name": "python3"
  },
  "language_info": {
   "codemirror_mode": {
    "name": "ipython",
    "version": 3
   },
   "file_extension": ".py",
   "mimetype": "text/x-python",
   "name": "python",
   "nbconvert_exporter": "python",
   "pygments_lexer": "ipython3",
   "version": "3.7.6"
  }
 },
 "nbformat": 4,
 "nbformat_minor": 4
}
